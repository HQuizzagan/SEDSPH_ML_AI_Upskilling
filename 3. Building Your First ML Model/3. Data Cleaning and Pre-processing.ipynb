{
 "cells": [
  {
   "attachments": {},
   "cell_type": "markdown",
   "metadata": {},
   "source": [
    "# **Pre-processing and Cleaning**\n",
    "\n",
    "Here are several points of discussion\n",
    "- How to deal with missing values? What imputation method to use and why?\n",
    "- When to use normalization and standardization? What's the difference between the two?\n",
    "- How do you define an outlier?\n",
    "- How to deal with outliers?\n",
    "- What is multi-collinearity? How to detect it? How to deal with it?\n"
   ]
  },
  {
   "cell_type": "code",
   "execution_count": 1,
   "metadata": {},
   "outputs": [],
   "source": [
    "import pandas as pd\n",
    "import numpy as np"
   ]
  },
  {
   "cell_type": "code",
   "execution_count": 2,
   "metadata": {},
   "outputs": [
    {
     "data": {
      "text/plain": [
       "(1690302, 19)"
      ]
     },
     "execution_count": 2,
     "metadata": {},
     "output_type": "execute_result"
    }
   ],
   "source": [
    "# Load the dirty dataset\n",
    "df = pd.read_csv('./nyc-taxi-trip-duration/train_dirty.csv')\n",
    "df.shape"
   ]
  },
  {
   "attachments": {},
   "cell_type": "markdown",
   "metadata": {},
   "source": [
    "`np.nan`"
   ]
  },
  {
   "attachments": {},
   "cell_type": "markdown",
   "metadata": {},
   "source": [
    "# **Dealing with Missing Values**\n",
    "\n",
    "Missing values are a common occurrence in datasets. There are several ways to deal with missing values. The most common ones are:\n",
    "- Drop the rows with missing values\n",
    "- Impute the missing values with mean, median, mode, or any other statistical measure"
   ]
  },
  {
   "cell_type": "code",
   "execution_count": 3,
   "metadata": {},
   "outputs": [
    {
     "data": {
      "text/plain": [
       "id                       120455\n",
       "vendor_id                120433\n",
       "pickup_datetime          120604\n",
       "dropoff_datetime         120354\n",
       "passenger_count          120122\n",
       "pickup_longitude         120312\n",
       "pickup_latitude          120838\n",
       "dropoff_longitude        120855\n",
       "dropoff_latitude         120479\n",
       "store_and_fwd_flag       120313\n",
       "trip_duration            120579\n",
       "nyc_borough              565691\n",
       "taxi_type                408766\n",
       "payment_type             706406\n",
       "distance                 192685\n",
       "speed                    200657\n",
       "trip_distance_miles      192685\n",
       "trip_duration_minutes    120579\n",
       "LC_sim                   200657\n",
       "dtype: int64"
      ]
     },
     "execution_count": 3,
     "metadata": {},
     "output_type": "execute_result"
    }
   ],
   "source": [
    "# How many rows have missing values?\n",
    "df.isnull().sum()"
   ]
  },
  {
   "cell_type": "code",
   "execution_count": 4,
   "metadata": {},
   "outputs": [
    {
     "name": "stdout",
     "output_type": "stream",
     "text": [
      "<class 'pandas.core.frame.DataFrame'>\n",
      "RangeIndex: 1690302 entries, 0 to 1690301\n",
      "Data columns (total 19 columns):\n",
      " #   Column                 Non-Null Count    Dtype  \n",
      "---  ------                 --------------    -----  \n",
      " 0   id                     1569847 non-null  object \n",
      " 1   vendor_id              1569869 non-null  float64\n",
      " 2   pickup_datetime        1569698 non-null  object \n",
      " 3   dropoff_datetime       1569948 non-null  object \n",
      " 4   passenger_count        1570180 non-null  float64\n",
      " 5   pickup_longitude       1569990 non-null  float64\n",
      " 6   pickup_latitude        1569464 non-null  float64\n",
      " 7   dropoff_longitude      1569447 non-null  float64\n",
      " 8   dropoff_latitude       1569823 non-null  float64\n",
      " 9   store_and_fwd_flag     1569989 non-null  object \n",
      " 10  trip_duration          1569723 non-null  float64\n",
      " 11  nyc_borough            1124611 non-null  object \n",
      " 12  taxi_type              1281536 non-null  object \n",
      " 13  payment_type           983896 non-null   object \n",
      " 14  distance               1497617 non-null  float64\n",
      " 15  speed                  1489645 non-null  float64\n",
      " 16  trip_distance_miles    1497617 non-null  float64\n",
      " 17  trip_duration_minutes  1569723 non-null  float64\n",
      " 18  LC_sim                 1489645 non-null  float64\n",
      "dtypes: float64(12), object(7)\n",
      "memory usage: 245.0+ MB\n"
     ]
    }
   ],
   "source": [
    "df.info()"
   ]
  },
  {
   "attachments": {},
   "cell_type": "markdown",
   "metadata": {},
   "source": [
    "## **Drop Records with Missing Values**"
   ]
  },
  {
   "cell_type": "code",
   "execution_count": 6,
   "metadata": {},
   "outputs": [
    {
     "data": {
      "text/plain": [
       "((1690302, 19), (431462, 19))"
      ]
     },
     "execution_count": 6,
     "metadata": {},
     "output_type": "execute_result"
    }
   ],
   "source": [
    "# Drop rows with missing values\n",
    "df_no_missing = df.dropna()\n",
    "df.shape, df_no_missing.shape"
   ]
  },
  {
   "attachments": {},
   "cell_type": "markdown",
   "metadata": {},
   "source": [
    "Removing rows with missing values **may** result to a **downsize** in dataset size. To evaluate whether this is a good idea, we need to check the percentage of rows that will eventually get dropped. If the percentage is small, then it is safe to remove the rows with missing values. \n",
    "\n",
    "Alternatively, even if the percentage is small if the **overall dataset size** to begin with is already small, then it is not a good idea to remove rows with missing values. In this case, we need to impute the missing values."
   ]
  },
  {
   "cell_type": "code",
   "execution_count": 7,
   "metadata": {},
   "outputs": [
    {
     "name": "stdout",
     "output_type": "stream",
     "text": [
      "1258840 rows were removed which is 74.47% of the dataset\n"
     ]
    }
   ],
   "source": [
    "# How much was removed\n",
    "num_dropped = df.shape[0] - df_no_missing.shape[0]\n",
    "print(f'{num_dropped} rows were removed which is {num_dropped / df.shape[0] * 100:.2f}% of the dataset')"
   ]
  },
  {
   "attachments": {},
   "cell_type": "markdown",
   "metadata": {},
   "source": [
    "## **Impute Missing Values**"
   ]
  },
  {
   "attachments": {},
   "cell_type": "markdown",
   "metadata": {},
   "source": [
    "Almost a 3/4 of the dataset will end up getting dropped if we remove rows with missing values. This is a significant amount of data. Hence, we will impute the missing values.\n",
    "\n",
    "There are several ways to impute missing values. The most common ones are:\n",
    "- Impute with mean, median, or mode\n",
    "- Impute with a constant value that can be identified by the user based on the context of the problem\n",
    "- Impute with a value estimated by another predictive model"
   ]
  },
  {
   "cell_type": "code",
   "execution_count": 8,
   "metadata": {},
   "outputs": [
    {
     "data": {
      "text/plain": [
       "Index(['id', 'vendor_id', 'pickup_datetime', 'dropoff_datetime',\n",
       "       'passenger_count', 'pickup_longitude', 'pickup_latitude',\n",
       "       'dropoff_longitude', 'dropoff_latitude', 'store_and_fwd_flag',\n",
       "       'trip_duration', 'nyc_borough', 'taxi_type', 'payment_type', 'distance',\n",
       "       'speed', 'trip_distance_miles', 'trip_duration_minutes', 'LC_sim'],\n",
       "      dtype='object')"
      ]
     },
     "execution_count": 8,
     "metadata": {},
     "output_type": "execute_result"
    }
   ],
   "source": [
    "df.columns"
   ]
  },
  {
   "cell_type": "code",
   "execution_count": 9,
   "metadata": {},
   "outputs": [
    {
     "data": {
      "text/plain": [
       "(1690302, 11)"
      ]
     },
     "execution_count": 9,
     "metadata": {},
     "output_type": "execute_result"
    }
   ],
   "source": [
    "# Remove unwanted columns\n",
    "unwanted = ['id', 'vendor_id', 'pickup_datetime', 'dropoff_datetime', 'pickup_longitude', 'pickup_latitude', 'dropoff_longitude', 'dropoff_latitude']\n",
    "\n",
    "df_selected = df[[col for col in df.columns if col not in unwanted]]\n",
    "df_selected.shape"
   ]
  },
  {
   "cell_type": "code",
   "execution_count": 10,
   "metadata": {},
   "outputs": [
    {
     "data": {
      "text/html": [
       "<div>\n",
       "<style scoped>\n",
       "    .dataframe tbody tr th:only-of-type {\n",
       "        vertical-align: middle;\n",
       "    }\n",
       "\n",
       "    .dataframe tbody tr th {\n",
       "        vertical-align: top;\n",
       "    }\n",
       "\n",
       "    .dataframe thead th {\n",
       "        text-align: right;\n",
       "    }\n",
       "</style>\n",
       "<table border=\"1\" class=\"dataframe\">\n",
       "  <thead>\n",
       "    <tr style=\"text-align: right;\">\n",
       "      <th></th>\n",
       "      <th>passenger_count</th>\n",
       "      <th>store_and_fwd_flag</th>\n",
       "      <th>trip_duration</th>\n",
       "      <th>nyc_borough</th>\n",
       "      <th>taxi_type</th>\n",
       "      <th>payment_type</th>\n",
       "      <th>distance</th>\n",
       "      <th>speed</th>\n",
       "      <th>trip_distance_miles</th>\n",
       "      <th>trip_duration_minutes</th>\n",
       "      <th>LC_sim</th>\n",
       "    </tr>\n",
       "  </thead>\n",
       "  <tbody>\n",
       "    <tr>\n",
       "      <th>683119</th>\n",
       "      <td>1.0</td>\n",
       "      <td>N</td>\n",
       "      <td>729.0</td>\n",
       "      <td>NaN</td>\n",
       "      <td>NaN</td>\n",
       "      <td>NaN</td>\n",
       "      <td>2.354618</td>\n",
       "      <td>11.627743</td>\n",
       "      <td>1.463091</td>\n",
       "      <td>12.150000</td>\n",
       "      <td>32.931591</td>\n",
       "    </tr>\n",
       "    <tr>\n",
       "      <th>24624</th>\n",
       "      <td>1.0</td>\n",
       "      <td>N</td>\n",
       "      <td>270.0</td>\n",
       "      <td>Manhattan</td>\n",
       "      <td>fhv</td>\n",
       "      <td>NaN</td>\n",
       "      <td>1.248816</td>\n",
       "      <td>16.650884</td>\n",
       "      <td>0.775978</td>\n",
       "      <td>4.500000</td>\n",
       "      <td>12.430978</td>\n",
       "    </tr>\n",
       "    <tr>\n",
       "      <th>700421</th>\n",
       "      <td>1.0</td>\n",
       "      <td>N</td>\n",
       "      <td>586.0</td>\n",
       "      <td>NaN</td>\n",
       "      <td>yellow</td>\n",
       "      <td>dispute</td>\n",
       "      <td>1.096795</td>\n",
       "      <td>6.737987</td>\n",
       "      <td>0.681516</td>\n",
       "      <td>9.766667</td>\n",
       "      <td>25.977183</td>\n",
       "    </tr>\n",
       "  </tbody>\n",
       "</table>\n",
       "</div>"
      ],
      "text/plain": [
       "        passenger_count store_and_fwd_flag  trip_duration nyc_borough  \\\n",
       "683119              1.0                  N          729.0         NaN   \n",
       "24624               1.0                  N          270.0   Manhattan   \n",
       "700421              1.0                  N          586.0         NaN   \n",
       "\n",
       "       taxi_type payment_type  distance      speed  trip_distance_miles  \\\n",
       "683119       NaN          NaN  2.354618  11.627743             1.463091   \n",
       "24624        fhv          NaN  1.248816  16.650884             0.775978   \n",
       "700421    yellow      dispute  1.096795   6.737987             0.681516   \n",
       "\n",
       "        trip_duration_minutes     LC_sim  \n",
       "683119              12.150000  32.931591  \n",
       "24624                4.500000  12.430978  \n",
       "700421               9.766667  25.977183  "
      ]
     },
     "execution_count": 10,
     "metadata": {},
     "output_type": "execute_result"
    }
   ],
   "source": [
    "df_selected.sample(3)"
   ]
  },
  {
   "cell_type": "code",
   "execution_count": 11,
   "metadata": {},
   "outputs": [
    {
     "data": {
      "text/plain": [
       "passenger_count          120122\n",
       "store_and_fwd_flag       120313\n",
       "trip_duration            120579\n",
       "nyc_borough              565691\n",
       "taxi_type                408766\n",
       "payment_type             706406\n",
       "distance                 192685\n",
       "speed                    200657\n",
       "trip_distance_miles      192685\n",
       "trip_duration_minutes    120579\n",
       "LC_sim                   200657\n",
       "dtype: int64"
      ]
     },
     "execution_count": 11,
     "metadata": {},
     "output_type": "execute_result"
    }
   ],
   "source": [
    "df_selected.isnull().sum()"
   ]
  },
  {
   "cell_type": "code",
   "execution_count": 13,
   "metadata": {},
   "outputs": [],
   "source": [
    "# Impute the following columns using the MEAN\n",
    "impute_with_mean = ['passenger_count', 'trip_duration', 'LC_sim']\n",
    "\n",
    "# Impute the following with MODE\n",
    "impute_with_mode = ['store_and_fwd_flag', 'nyc_borough', 'taxi_type', 'payment_type']\n",
    "\n",
    "# Impute with MEDIAN\n",
    "impute_with_median = ['distance']\n",
    "\n",
    "# Impute with specific value or calculation: speed, trip_distance_miles, trip_duration_minutes"
   ]
  },
  {
   "cell_type": "code",
   "execution_count": 14,
   "metadata": {},
   "outputs": [
    {
     "name": "stderr",
     "output_type": "stream",
     "text": [
      "/var/folders/3k/8x521n3x1hv89v96qvzcfzb00000gn/T/ipykernel_18023/1497166331.py:1: SettingWithCopyWarning: \n",
      "A value is trying to be set on a copy of a slice from a DataFrame.\n",
      "Try using .loc[row_indexer,col_indexer] = value instead\n",
      "\n",
      "See the caveats in the documentation: https://pandas.pydata.org/pandas-docs/stable/user_guide/indexing.html#returning-a-view-versus-a-copy\n",
      "  df_selected[impute_with_mean] = df_selected[impute_with_mean].fillna(df_selected[impute_with_mean].mean())\n",
      "/var/folders/3k/8x521n3x1hv89v96qvzcfzb00000gn/T/ipykernel_18023/1497166331.py:2: SettingWithCopyWarning: \n",
      "A value is trying to be set on a copy of a slice from a DataFrame.\n",
      "Try using .loc[row_indexer,col_indexer] = value instead\n",
      "\n",
      "See the caveats in the documentation: https://pandas.pydata.org/pandas-docs/stable/user_guide/indexing.html#returning-a-view-versus-a-copy\n",
      "  df_selected[impute_with_mode] = df_selected[impute_with_mode].fillna(df_selected[impute_with_mode].mode().iloc[0])\n",
      "/var/folders/3k/8x521n3x1hv89v96qvzcfzb00000gn/T/ipykernel_18023/1497166331.py:3: SettingWithCopyWarning: \n",
      "A value is trying to be set on a copy of a slice from a DataFrame.\n",
      "Try using .loc[row_indexer,col_indexer] = value instead\n",
      "\n",
      "See the caveats in the documentation: https://pandas.pydata.org/pandas-docs/stable/user_guide/indexing.html#returning-a-view-versus-a-copy\n",
      "  df_selected[impute_with_median] = df_selected[impute_with_median].fillna(df_selected[impute_with_median].median())\n",
      "/var/folders/3k/8x521n3x1hv89v96qvzcfzb00000gn/T/ipykernel_18023/1497166331.py:5: SettingWithCopyWarning: \n",
      "A value is trying to be set on a copy of a slice from a DataFrame.\n",
      "Try using .loc[row_indexer,col_indexer] = value instead\n",
      "\n",
      "See the caveats in the documentation: https://pandas.pydata.org/pandas-docs/stable/user_guide/indexing.html#returning-a-view-versus-a-copy\n",
      "  df_selected['speed'] = df_selected['distance'] / df_selected['trip_duration'] * 3600\n",
      "/var/folders/3k/8x521n3x1hv89v96qvzcfzb00000gn/T/ipykernel_18023/1497166331.py:6: SettingWithCopyWarning: \n",
      "A value is trying to be set on a copy of a slice from a DataFrame.\n",
      "Try using .loc[row_indexer,col_indexer] = value instead\n",
      "\n",
      "See the caveats in the documentation: https://pandas.pydata.org/pandas-docs/stable/user_guide/indexing.html#returning-a-view-versus-a-copy\n",
      "  df_selected['trip_distance_miles'] = df_selected['distance'] * 0.621371\n",
      "/var/folders/3k/8x521n3x1hv89v96qvzcfzb00000gn/T/ipykernel_18023/1497166331.py:7: SettingWithCopyWarning: \n",
      "A value is trying to be set on a copy of a slice from a DataFrame.\n",
      "Try using .loc[row_indexer,col_indexer] = value instead\n",
      "\n",
      "See the caveats in the documentation: https://pandas.pydata.org/pandas-docs/stable/user_guide/indexing.html#returning-a-view-versus-a-copy\n",
      "  df_selected['trip_duration_minutes'] = df_selected['trip_duration'] / 60\n"
     ]
    }
   ],
   "source": [
    "df_selected[impute_with_mean] = df_selected[impute_with_mean].fillna(df_selected[impute_with_mean].mean())\n",
    "df_selected[impute_with_mode] = df_selected[impute_with_mode].fillna(df_selected[impute_with_mode].mode().iloc[0])\n",
    "df_selected[impute_with_median] = df_selected[impute_with_median].fillna(df_selected[impute_with_median].median())\n",
    "\n",
    "df_selected['speed'] = df_selected['distance'] / df_selected['trip_duration'] * 3600\n",
    "df_selected['trip_distance_miles'] = df_selected['distance'] * 0.621371\n",
    "df_selected['trip_duration_minutes'] = df_selected['trip_duration'] / 60"
   ]
  },
  {
   "cell_type": "code",
   "execution_count": 15,
   "metadata": {},
   "outputs": [
    {
     "data": {
      "text/plain": [
       "passenger_count          0\n",
       "store_and_fwd_flag       0\n",
       "trip_duration            0\n",
       "nyc_borough              0\n",
       "taxi_type                0\n",
       "payment_type             0\n",
       "distance                 0\n",
       "speed                    0\n",
       "trip_distance_miles      0\n",
       "trip_duration_minutes    0\n",
       "LC_sim                   0\n",
       "dtype: int64"
      ]
     },
     "execution_count": 15,
     "metadata": {},
     "output_type": "execute_result"
    }
   ],
   "source": [
    "# Re-check for missing values\n",
    "df_selected.isnull().sum()"
   ]
  },
  {
   "attachments": {},
   "cell_type": "markdown",
   "metadata": {},
   "source": [
    "## **Drop Columns with Missing Values and Impute the Rest**\n",
    "\n",
    "Instead of dropping an entire records simply because it has missing values, you can instead choose to drop only specific columns with missing values. This is a good idea if the columns with missing values are not important to the analysis.\n",
    "\n",
    "> But, what do you think is the disadvantage of this approach?"
   ]
  },
  {
   "cell_type": "code",
   "execution_count": 16,
   "metadata": {},
   "outputs": [
    {
     "data": {
      "text/plain": [
       "id                        7.126241\n",
       "vendor_id                 7.124940\n",
       "pickup_datetime           7.135056\n",
       "dropoff_datetime          7.120266\n",
       "passenger_count           7.106541\n",
       "pickup_longitude          7.117781\n",
       "pickup_latitude           7.148900\n",
       "dropoff_longitude         7.149906\n",
       "dropoff_latitude          7.127661\n",
       "store_and_fwd_flag        7.117840\n",
       "trip_duration             7.133577\n",
       "nyc_borough              33.466860\n",
       "taxi_type                24.183016\n",
       "payment_type             41.791703\n",
       "distance                 11.399442\n",
       "speed                    11.871074\n",
       "trip_distance_miles      11.399442\n",
       "trip_duration_minutes     7.133577\n",
       "LC_sim                   11.871074\n",
       "dtype: float64"
      ]
     },
     "execution_count": 16,
     "metadata": {},
     "output_type": "execute_result"
    }
   ],
   "source": [
    "# Calculate percentage of missing values for each column\n",
    "df.isnull().sum() / df.shape[0] * 100"
   ]
  },
  {
   "attachments": {},
   "cell_type": "markdown",
   "metadata": {},
   "source": [
    "You can use this as the basis for deciding whether a **column** or **feature** is even worth including in the analysis. If a column has a lot of missing values, then it is probably not worth including in the analysis."
   ]
  },
  {
   "attachments": {},
   "cell_type": "markdown",
   "metadata": {},
   "source": [
    "## **Other Implementations**\n",
    "\n",
    "Our imputation simply used of `pandas` `fillna()` method. There are other implementations that you can use. For example, you can use `sklearn`'s `SimpleImputer` class. You can also use `fancyimpute`'s `IterativeImputer` class. Refer to the documentation for the differences between the available methods from `sklearn`:\n",
    "\n",
    "- https://scikit-learn.org/stable/modules/impute.html\n",
    "- https://scikit-learn.org/stable/modules/classes.html#module-sklearn.impute\n",
    "\n",
    "More information about `fancyimpute` can be found here: https://pypi.org/project/fancyimpute/\n",
    "\n",
    "On top of these, *fancier* or *more sophisticated* implementations of imputation can\n",
    "- include use of other machine learning models to estimate the missing values instead (predictive imputation)\n",
    "- be imputation using multiple imputation by chained equations (MICE) - `IterativeImputer` of `sklearn` is an implementation of this\n",
    "- be found in the `impyute` package: https://pypi.org/project/impyute/\n",
    "- consider **other algorithms altogether** that **can handle missing values implicitly** such as **decision trees** and **random forests** (or better yet, **XGBoost**)"
   ]
  },
  {
   "cell_type": "code",
   "execution_count": 17,
   "metadata": {},
   "outputs": [
    {
     "data": {
      "text/plain": [
       "id                        object\n",
       "vendor_id                float64\n",
       "pickup_datetime           object\n",
       "dropoff_datetime          object\n",
       "passenger_count          float64\n",
       "pickup_longitude         float64\n",
       "pickup_latitude          float64\n",
       "dropoff_longitude        float64\n",
       "dropoff_latitude         float64\n",
       "store_and_fwd_flag        object\n",
       "trip_duration            float64\n",
       "nyc_borough               object\n",
       "taxi_type                 object\n",
       "payment_type              object\n",
       "distance                 float64\n",
       "speed                    float64\n",
       "trip_distance_miles      float64\n",
       "trip_duration_minutes    float64\n",
       "LC_sim                   float64\n",
       "dtype: object"
      ]
     },
     "execution_count": 17,
     "metadata": {},
     "output_type": "execute_result"
    }
   ],
   "source": [
    "df.dtypes"
   ]
  },
  {
   "attachments": {},
   "cell_type": "markdown",
   "metadata": {},
   "source": [
    "# **Dealing with Different Scales**\n",
    "\n",
    "**Normalization**:\n",
    "- Scales the values between 0 and 1\n",
    "- Useful when the distribution of the data does not follow a Gaussian distribution\n",
    "- Useful when the data is bounded\n",
    "\n",
    "**Standardization**:\n",
    "- Scales the values to have a mean of 0 and standard deviation of 1\n",
    "- Useful when the distribution of the data follows a Gaussian distribution\n",
    "- Useful when the data is unbounded\n",
    "\n",
    "Using `sklearn`'s `StandardScaler` and `MinMaxScaler` classes, we can easily normalize and standardize the data. Refer to the documentation for more information:\n",
    "\n",
    "- https://scikit-learn.org/stable/modules/classes.html#module-sklearn.preprocessing\n",
    "- https://scikit-learn.org/stable/modules/preprocessing.html#preprocessing"
   ]
  },
  {
   "attachments": {},
   "cell_type": "markdown",
   "metadata": {},
   "source": [
    "## **Normalization**"
   ]
  },
  {
   "cell_type": "code",
   "execution_count": 19,
   "metadata": {},
   "outputs": [
    {
     "data": {
      "text/html": [
       "<div>\n",
       "<style scoped>\n",
       "    .dataframe tbody tr th:only-of-type {\n",
       "        vertical-align: middle;\n",
       "    }\n",
       "\n",
       "    .dataframe tbody tr th {\n",
       "        vertical-align: top;\n",
       "    }\n",
       "\n",
       "    .dataframe thead th {\n",
       "        text-align: right;\n",
       "    }\n",
       "</style>\n",
       "<table border=\"1\" class=\"dataframe\">\n",
       "  <thead>\n",
       "    <tr style=\"text-align: right;\">\n",
       "      <th></th>\n",
       "      <th>passenger_count</th>\n",
       "      <th>distance</th>\n",
       "    </tr>\n",
       "  </thead>\n",
       "  <tbody>\n",
       "    <tr>\n",
       "      <th>count</th>\n",
       "      <td>1.570180e+06</td>\n",
       "      <td>1.497617e+06</td>\n",
       "    </tr>\n",
       "    <tr>\n",
       "      <th>mean</th>\n",
       "      <td>1.121235e+01</td>\n",
       "      <td>3.440064e+00</td>\n",
       "    </tr>\n",
       "    <tr>\n",
       "      <th>std</th>\n",
       "      <td>3.720397e+02</td>\n",
       "      <td>4.287283e+00</td>\n",
       "    </tr>\n",
       "    <tr>\n",
       "      <th>min</th>\n",
       "      <td>0.000000e+00</td>\n",
       "      <td>0.000000e+00</td>\n",
       "    </tr>\n",
       "    <tr>\n",
       "      <th>25%</th>\n",
       "      <td>1.000000e+00</td>\n",
       "      <td>1.231656e+00</td>\n",
       "    </tr>\n",
       "    <tr>\n",
       "      <th>50%</th>\n",
       "      <td>1.000000e+00</td>\n",
       "      <td>2.092911e+00</td>\n",
       "    </tr>\n",
       "    <tr>\n",
       "      <th>75%</th>\n",
       "      <td>2.000000e+00</td>\n",
       "      <td>3.873260e+00</td>\n",
       "    </tr>\n",
       "    <tr>\n",
       "      <th>max</th>\n",
       "      <td>3.252600e+04</td>\n",
       "      <td>1.240909e+03</td>\n",
       "    </tr>\n",
       "  </tbody>\n",
       "</table>\n",
       "</div>"
      ],
      "text/plain": [
       "       passenger_count      distance\n",
       "count     1.570180e+06  1.497617e+06\n",
       "mean      1.121235e+01  3.440064e+00\n",
       "std       3.720397e+02  4.287283e+00\n",
       "min       0.000000e+00  0.000000e+00\n",
       "25%       1.000000e+00  1.231656e+00\n",
       "50%       1.000000e+00  2.092911e+00\n",
       "75%       2.000000e+00  3.873260e+00\n",
       "max       3.252600e+04  1.240909e+03"
      ]
     },
     "execution_count": 19,
     "metadata": {},
     "output_type": "execute_result"
    }
   ],
   "source": [
    "df[['passenger_count', 'distance']].describe()"
   ]
  },
  {
   "cell_type": "code",
   "execution_count": 20,
   "metadata": {},
   "outputs": [
    {
     "data": {
      "text/html": [
       "<div>\n",
       "<style scoped>\n",
       "    .dataframe tbody tr th:only-of-type {\n",
       "        vertical-align: middle;\n",
       "    }\n",
       "\n",
       "    .dataframe tbody tr th {\n",
       "        vertical-align: top;\n",
       "    }\n",
       "\n",
       "    .dataframe thead th {\n",
       "        text-align: right;\n",
       "    }\n",
       "</style>\n",
       "<table border=\"1\" class=\"dataframe\">\n",
       "  <thead>\n",
       "    <tr style=\"text-align: right;\">\n",
       "      <th></th>\n",
       "      <th>passenger_count</th>\n",
       "      <th>distance</th>\n",
       "    </tr>\n",
       "  </thead>\n",
       "  <tbody>\n",
       "    <tr>\n",
       "      <th>0</th>\n",
       "      <td>1.0</td>\n",
       "      <td>1.382570</td>\n",
       "    </tr>\n",
       "    <tr>\n",
       "      <th>1</th>\n",
       "      <td>1.0</td>\n",
       "      <td>11.930198</td>\n",
       "    </tr>\n",
       "    <tr>\n",
       "      <th>2</th>\n",
       "      <td>1.0</td>\n",
       "      <td>1.763881</td>\n",
       "    </tr>\n",
       "    <tr>\n",
       "      <th>3</th>\n",
       "      <td>1.0</td>\n",
       "      <td>20.444311</td>\n",
       "    </tr>\n",
       "    <tr>\n",
       "      <th>4</th>\n",
       "      <td>1.0</td>\n",
       "      <td>1.485692</td>\n",
       "    </tr>\n",
       "  </tbody>\n",
       "</table>\n",
       "</div>"
      ],
      "text/plain": [
       "   passenger_count   distance\n",
       "0              1.0   1.382570\n",
       "1              1.0  11.930198\n",
       "2              1.0   1.763881\n",
       "3              1.0  20.444311\n",
       "4              1.0   1.485692"
      ]
     },
     "execution_count": 20,
     "metadata": {},
     "output_type": "execute_result"
    }
   ],
   "source": [
    "normalize_cols = ['passenger_count', 'distance']\n",
    "df[normalize_cols].head()"
   ]
  },
  {
   "cell_type": "code",
   "execution_count": 21,
   "metadata": {},
   "outputs": [
    {
     "data": {
      "text/html": [
       "<div>\n",
       "<style scoped>\n",
       "    .dataframe tbody tr th:only-of-type {\n",
       "        vertical-align: middle;\n",
       "    }\n",
       "\n",
       "    .dataframe tbody tr th {\n",
       "        vertical-align: top;\n",
       "    }\n",
       "\n",
       "    .dataframe thead th {\n",
       "        text-align: right;\n",
       "    }\n",
       "</style>\n",
       "<table border=\"1\" class=\"dataframe\">\n",
       "  <thead>\n",
       "    <tr style=\"text-align: right;\">\n",
       "      <th></th>\n",
       "      <th>passenger_count</th>\n",
       "      <th>distance</th>\n",
       "    </tr>\n",
       "  </thead>\n",
       "  <tbody>\n",
       "    <tr>\n",
       "      <th>count</th>\n",
       "      <td>1.570180e+06</td>\n",
       "      <td>1.497617e+06</td>\n",
       "    </tr>\n",
       "    <tr>\n",
       "      <th>mean</th>\n",
       "      <td>1.121235e+01</td>\n",
       "      <td>3.440064e+00</td>\n",
       "    </tr>\n",
       "    <tr>\n",
       "      <th>std</th>\n",
       "      <td>3.720397e+02</td>\n",
       "      <td>4.287283e+00</td>\n",
       "    </tr>\n",
       "    <tr>\n",
       "      <th>min</th>\n",
       "      <td>0.000000e+00</td>\n",
       "      <td>0.000000e+00</td>\n",
       "    </tr>\n",
       "    <tr>\n",
       "      <th>25%</th>\n",
       "      <td>1.000000e+00</td>\n",
       "      <td>1.231656e+00</td>\n",
       "    </tr>\n",
       "    <tr>\n",
       "      <th>50%</th>\n",
       "      <td>1.000000e+00</td>\n",
       "      <td>2.092911e+00</td>\n",
       "    </tr>\n",
       "    <tr>\n",
       "      <th>75%</th>\n",
       "      <td>2.000000e+00</td>\n",
       "      <td>3.873260e+00</td>\n",
       "    </tr>\n",
       "    <tr>\n",
       "      <th>max</th>\n",
       "      <td>3.252600e+04</td>\n",
       "      <td>1.240909e+03</td>\n",
       "    </tr>\n",
       "  </tbody>\n",
       "</table>\n",
       "</div>"
      ],
      "text/plain": [
       "       passenger_count      distance\n",
       "count     1.570180e+06  1.497617e+06\n",
       "mean      1.121235e+01  3.440064e+00\n",
       "std       3.720397e+02  4.287283e+00\n",
       "min       0.000000e+00  0.000000e+00\n",
       "25%       1.000000e+00  1.231656e+00\n",
       "50%       1.000000e+00  2.092911e+00\n",
       "75%       2.000000e+00  3.873260e+00\n",
       "max       3.252600e+04  1.240909e+03"
      ]
     },
     "execution_count": 21,
     "metadata": {},
     "output_type": "execute_result"
    }
   ],
   "source": [
    "df[normalize_cols].describe()"
   ]
  },
  {
   "cell_type": "code",
   "execution_count": 22,
   "metadata": {},
   "outputs": [
    {
     "data": {
      "text/html": [
       "<div>\n",
       "<style scoped>\n",
       "    .dataframe tbody tr th:only-of-type {\n",
       "        vertical-align: middle;\n",
       "    }\n",
       "\n",
       "    .dataframe tbody tr th {\n",
       "        vertical-align: top;\n",
       "    }\n",
       "\n",
       "    .dataframe thead th {\n",
       "        text-align: right;\n",
       "    }\n",
       "</style>\n",
       "<table border=\"1\" class=\"dataframe\">\n",
       "  <thead>\n",
       "    <tr style=\"text-align: right;\">\n",
       "      <th></th>\n",
       "      <th>passenger_count</th>\n",
       "      <th>distance</th>\n",
       "    </tr>\n",
       "  </thead>\n",
       "  <tbody>\n",
       "    <tr>\n",
       "      <th>0</th>\n",
       "      <td>0.000031</td>\n",
       "      <td>0.001114</td>\n",
       "    </tr>\n",
       "    <tr>\n",
       "      <th>1</th>\n",
       "      <td>0.000031</td>\n",
       "      <td>0.009614</td>\n",
       "    </tr>\n",
       "    <tr>\n",
       "      <th>2</th>\n",
       "      <td>0.000031</td>\n",
       "      <td>0.001421</td>\n",
       "    </tr>\n",
       "    <tr>\n",
       "      <th>3</th>\n",
       "      <td>0.000031</td>\n",
       "      <td>0.016475</td>\n",
       "    </tr>\n",
       "    <tr>\n",
       "      <th>4</th>\n",
       "      <td>0.000031</td>\n",
       "      <td>0.001197</td>\n",
       "    </tr>\n",
       "  </tbody>\n",
       "</table>\n",
       "</div>"
      ],
      "text/plain": [
       "   passenger_count  distance\n",
       "0         0.000031  0.001114\n",
       "1         0.000031  0.009614\n",
       "2         0.000031  0.001421\n",
       "3         0.000031  0.016475\n",
       "4         0.000031  0.001197"
      ]
     },
     "execution_count": 22,
     "metadata": {},
     "output_type": "execute_result"
    }
   ],
   "source": [
    "# Normalize the following columns: passenger_count, trip_duration, distance, speed, trip_distance_miles, trip_duration_minutes\n",
    "from sklearn.preprocessing import MinMaxScaler\n",
    "scaler = MinMaxScaler()\n",
    "\n",
    "df[normalize_cols] = scaler.fit_transform(df[normalize_cols])\n",
    "df[normalize_cols].head()"
   ]
  },
  {
   "cell_type": "code",
   "execution_count": 23,
   "metadata": {},
   "outputs": [
    {
     "data": {
      "text/html": [
       "<div>\n",
       "<style scoped>\n",
       "    .dataframe tbody tr th:only-of-type {\n",
       "        vertical-align: middle;\n",
       "    }\n",
       "\n",
       "    .dataframe tbody tr th {\n",
       "        vertical-align: top;\n",
       "    }\n",
       "\n",
       "    .dataframe thead th {\n",
       "        text-align: right;\n",
       "    }\n",
       "</style>\n",
       "<table border=\"1\" class=\"dataframe\">\n",
       "  <thead>\n",
       "    <tr style=\"text-align: right;\">\n",
       "      <th></th>\n",
       "      <th>passenger_count</th>\n",
       "      <th>distance</th>\n",
       "    </tr>\n",
       "  </thead>\n",
       "  <tbody>\n",
       "    <tr>\n",
       "      <th>count</th>\n",
       "      <td>1.570180e+06</td>\n",
       "      <td>1.497617e+06</td>\n",
       "    </tr>\n",
       "    <tr>\n",
       "      <th>mean</th>\n",
       "      <td>3.447195e-04</td>\n",
       "      <td>2.772214e-03</td>\n",
       "    </tr>\n",
       "    <tr>\n",
       "      <th>std</th>\n",
       "      <td>1.143822e-02</td>\n",
       "      <td>3.454955e-03</td>\n",
       "    </tr>\n",
       "    <tr>\n",
       "      <th>min</th>\n",
       "      <td>0.000000e+00</td>\n",
       "      <td>0.000000e+00</td>\n",
       "    </tr>\n",
       "    <tr>\n",
       "      <th>25%</th>\n",
       "      <td>3.074464e-05</td>\n",
       "      <td>9.925436e-04</td>\n",
       "    </tr>\n",
       "    <tr>\n",
       "      <th>50%</th>\n",
       "      <td>3.074464e-05</td>\n",
       "      <td>1.686596e-03</td>\n",
       "    </tr>\n",
       "    <tr>\n",
       "      <th>75%</th>\n",
       "      <td>6.148927e-05</td>\n",
       "      <td>3.121309e-03</td>\n",
       "    </tr>\n",
       "    <tr>\n",
       "      <th>max</th>\n",
       "      <td>1.000000e+00</td>\n",
       "      <td>1.000000e+00</td>\n",
       "    </tr>\n",
       "  </tbody>\n",
       "</table>\n",
       "</div>"
      ],
      "text/plain": [
       "       passenger_count      distance\n",
       "count     1.570180e+06  1.497617e+06\n",
       "mean      3.447195e-04  2.772214e-03\n",
       "std       1.143822e-02  3.454955e-03\n",
       "min       0.000000e+00  0.000000e+00\n",
       "25%       3.074464e-05  9.925436e-04\n",
       "50%       3.074464e-05  1.686596e-03\n",
       "75%       6.148927e-05  3.121309e-03\n",
       "max       1.000000e+00  1.000000e+00"
      ]
     },
     "execution_count": 23,
     "metadata": {},
     "output_type": "execute_result"
    }
   ],
   "source": [
    "df[normalize_cols].describe()"
   ]
  },
  {
   "attachments": {},
   "cell_type": "markdown",
   "metadata": {},
   "source": [
    "## **Standardization**"
   ]
  },
  {
   "cell_type": "code",
   "execution_count": 24,
   "metadata": {},
   "outputs": [],
   "source": [
    "standardize_cols = ['trip_duration', 'distance', 'trip_distance_miles', 'trip_duration_minutes']"
   ]
  },
  {
   "cell_type": "code",
   "execution_count": 25,
   "metadata": {},
   "outputs": [
    {
     "data": {
      "text/html": [
       "<div>\n",
       "<style scoped>\n",
       "    .dataframe tbody tr th:only-of-type {\n",
       "        vertical-align: middle;\n",
       "    }\n",
       "\n",
       "    .dataframe tbody tr th {\n",
       "        vertical-align: top;\n",
       "    }\n",
       "\n",
       "    .dataframe thead th {\n",
       "        text-align: right;\n",
       "    }\n",
       "</style>\n",
       "<table border=\"1\" class=\"dataframe\">\n",
       "  <thead>\n",
       "    <tr style=\"text-align: right;\">\n",
       "      <th></th>\n",
       "      <th>trip_duration</th>\n",
       "      <th>distance</th>\n",
       "      <th>trip_distance_miles</th>\n",
       "      <th>trip_duration_minutes</th>\n",
       "    </tr>\n",
       "  </thead>\n",
       "  <tbody>\n",
       "    <tr>\n",
       "      <th>count</th>\n",
       "      <td>1.569723e+06</td>\n",
       "      <td>1.497617e+06</td>\n",
       "      <td>1.497617e+06</td>\n",
       "      <td>1.569723e+06</td>\n",
       "    </tr>\n",
       "    <tr>\n",
       "      <th>mean</th>\n",
       "      <td>5.823368e+03</td>\n",
       "      <td>2.772214e-03</td>\n",
       "      <td>2.137556e+00</td>\n",
       "      <td>9.705613e+01</td>\n",
       "    </tr>\n",
       "    <tr>\n",
       "      <th>std</th>\n",
       "      <td>4.270312e+05</td>\n",
       "      <td>3.454955e-03</td>\n",
       "      <td>2.663994e+00</td>\n",
       "      <td>7.117187e+03</td>\n",
       "    </tr>\n",
       "    <tr>\n",
       "      <th>min</th>\n",
       "      <td>1.000000e+00</td>\n",
       "      <td>0.000000e+00</td>\n",
       "      <td>0.000000e+00</td>\n",
       "      <td>1.666667e-02</td>\n",
       "    </tr>\n",
       "    <tr>\n",
       "      <th>25%</th>\n",
       "      <td>3.970000e+02</td>\n",
       "      <td>9.925436e-04</td>\n",
       "      <td>7.653153e-01</td>\n",
       "      <td>6.616667e+00</td>\n",
       "    </tr>\n",
       "    <tr>\n",
       "      <th>50%</th>\n",
       "      <td>6.630000e+02</td>\n",
       "      <td>1.686596e-03</td>\n",
       "      <td>1.300474e+00</td>\n",
       "      <td>1.105000e+01</td>\n",
       "    </tr>\n",
       "    <tr>\n",
       "      <th>75%</th>\n",
       "      <td>1.077000e+03</td>\n",
       "      <td>3.121309e-03</td>\n",
       "      <td>2.406731e+00</td>\n",
       "      <td>1.795000e+01</td>\n",
       "    </tr>\n",
       "    <tr>\n",
       "      <th>max</th>\n",
       "      <td>4.274672e+08</td>\n",
       "      <td>1.000000e+00</td>\n",
       "      <td>7.710647e+02</td>\n",
       "      <td>7.124452e+06</td>\n",
       "    </tr>\n",
       "  </tbody>\n",
       "</table>\n",
       "</div>"
      ],
      "text/plain": [
       "       trip_duration      distance  trip_distance_miles  trip_duration_minutes\n",
       "count   1.569723e+06  1.497617e+06         1.497617e+06           1.569723e+06\n",
       "mean    5.823368e+03  2.772214e-03         2.137556e+00           9.705613e+01\n",
       "std     4.270312e+05  3.454955e-03         2.663994e+00           7.117187e+03\n",
       "min     1.000000e+00  0.000000e+00         0.000000e+00           1.666667e-02\n",
       "25%     3.970000e+02  9.925436e-04         7.653153e-01           6.616667e+00\n",
       "50%     6.630000e+02  1.686596e-03         1.300474e+00           1.105000e+01\n",
       "75%     1.077000e+03  3.121309e-03         2.406731e+00           1.795000e+01\n",
       "max     4.274672e+08  1.000000e+00         7.710647e+02           7.124452e+06"
      ]
     },
     "execution_count": 25,
     "metadata": {},
     "output_type": "execute_result"
    }
   ],
   "source": [
    "df[standardize_cols].describe()"
   ]
  },
  {
   "cell_type": "code",
   "execution_count": 26,
   "metadata": {},
   "outputs": [],
   "source": [
    "# Standardize the dataset\n",
    "from sklearn.preprocessing import StandardScaler\n",
    "scaler = StandardScaler()\n",
    "df[standardize_cols] = scaler.fit_transform(df[standardize_cols])\n",
    "# df[standardize_cols].head()"
   ]
  },
  {
   "cell_type": "code",
   "execution_count": 27,
   "metadata": {},
   "outputs": [
    {
     "data": {
      "text/html": [
       "<div>\n",
       "<style scoped>\n",
       "    .dataframe tbody tr th:only-of-type {\n",
       "        vertical-align: middle;\n",
       "    }\n",
       "\n",
       "    .dataframe tbody tr th {\n",
       "        vertical-align: top;\n",
       "    }\n",
       "\n",
       "    .dataframe thead th {\n",
       "        text-align: right;\n",
       "    }\n",
       "</style>\n",
       "<table border=\"1\" class=\"dataframe\">\n",
       "  <thead>\n",
       "    <tr style=\"text-align: right;\">\n",
       "      <th></th>\n",
       "      <th>trip_duration</th>\n",
       "      <th>distance</th>\n",
       "      <th>trip_distance_miles</th>\n",
       "      <th>trip_duration_minutes</th>\n",
       "    </tr>\n",
       "  </thead>\n",
       "  <tbody>\n",
       "    <tr>\n",
       "      <th>count</th>\n",
       "      <td>1.569723e+06</td>\n",
       "      <td>1.497617e+06</td>\n",
       "      <td>1.497617e+06</td>\n",
       "      <td>1.569723e+06</td>\n",
       "    </tr>\n",
       "    <tr>\n",
       "      <th>mean</th>\n",
       "      <td>3.168584e-19</td>\n",
       "      <td>-1.177203e-16</td>\n",
       "      <td>-5.725649e-17</td>\n",
       "      <td>4.854723e-19</td>\n",
       "    </tr>\n",
       "    <tr>\n",
       "      <th>std</th>\n",
       "      <td>1.000000e+00</td>\n",
       "      <td>1.000000e+00</td>\n",
       "      <td>1.000000e+00</td>\n",
       "      <td>1.000000e+00</td>\n",
       "    </tr>\n",
       "    <tr>\n",
       "      <th>min</th>\n",
       "      <td>-1.363453e-02</td>\n",
       "      <td>-8.023881e-01</td>\n",
       "      <td>-8.023881e-01</td>\n",
       "      <td>-1.363453e-02</td>\n",
       "    </tr>\n",
       "    <tr>\n",
       "      <th>25%</th>\n",
       "      <td>-1.270720e-02</td>\n",
       "      <td>-5.151068e-01</td>\n",
       "      <td>-5.151068e-01</td>\n",
       "      <td>-1.270720e-02</td>\n",
       "    </tr>\n",
       "    <tr>\n",
       "      <th>50%</th>\n",
       "      <td>-1.208429e-02</td>\n",
       "      <td>-3.142207e-01</td>\n",
       "      <td>-3.142207e-01</td>\n",
       "      <td>-1.208429e-02</td>\n",
       "    </tr>\n",
       "    <tr>\n",
       "      <th>75%</th>\n",
       "      <td>-1.111481e-02</td>\n",
       "      <td>1.010421e-01</td>\n",
       "      <td>1.010421e-01</td>\n",
       "      <td>-1.111481e-02</td>\n",
       "    </tr>\n",
       "    <tr>\n",
       "      <th>max</th>\n",
       "      <td>1.001008e+03</td>\n",
       "      <td>2.886371e+02</td>\n",
       "      <td>2.886371e+02</td>\n",
       "      <td>1.001008e+03</td>\n",
       "    </tr>\n",
       "  </tbody>\n",
       "</table>\n",
       "</div>"
      ],
      "text/plain": [
       "       trip_duration      distance  trip_distance_miles  trip_duration_minutes\n",
       "count   1.569723e+06  1.497617e+06         1.497617e+06           1.569723e+06\n",
       "mean    3.168584e-19 -1.177203e-16        -5.725649e-17           4.854723e-19\n",
       "std     1.000000e+00  1.000000e+00         1.000000e+00           1.000000e+00\n",
       "min    -1.363453e-02 -8.023881e-01        -8.023881e-01          -1.363453e-02\n",
       "25%    -1.270720e-02 -5.151068e-01        -5.151068e-01          -1.270720e-02\n",
       "50%    -1.208429e-02 -3.142207e-01        -3.142207e-01          -1.208429e-02\n",
       "75%    -1.111481e-02  1.010421e-01         1.010421e-01          -1.111481e-02\n",
       "max     1.001008e+03  2.886371e+02         2.886371e+02           1.001008e+03"
      ]
     },
     "execution_count": 27,
     "metadata": {},
     "output_type": "execute_result"
    }
   ],
   "source": [
    "df[standardize_cols].describe()"
   ]
  },
  {
   "attachments": {},
   "cell_type": "markdown",
   "metadata": {},
   "source": [
    "# **Dealing with Outliers**\n",
    "\n",
    "Outliers may be due to:\n",
    "- Measurement error\n",
    "- Data entry error\n",
    "- True outlier observation\n",
    "\n",
    "These can affect the performance of the model. However, the extent of how they skew the model's performance depends on the algorithm used. For example, linear regression is very sensitive to outliers while decision trees are not. As such, you can either\n",
    "- detect and or remove outliers, or\n",
    "- use an algorithm that is not sensitive to outliers"
   ]
  },
  {
   "cell_type": "code",
   "execution_count": null,
   "metadata": {},
   "outputs": [],
   "source": [
    "# Detecting outlier with z-score\n",
    "from scipy import stats\n",
    "import numpy as np\n",
    "\n",
    "z = np.abs(stats.zscore(df))\n",
    "print(z)"
   ]
  },
  {
   "attachments": {},
   "cell_type": "markdown",
   "metadata": {},
   "source": [
    "If the Z-score of a data point is more than a threshold (commonly 3), it is considered an outlier. "
   ]
  },
  {
   "cell_type": "code",
   "execution_count": 9,
   "metadata": {},
   "outputs": [
    {
     "data": {
      "text/plain": [
       "vendor_id                  1.000000\n",
       "passenger_count            1.000000\n",
       "pickup_longitude           0.024544\n",
       "pickup_latitude            0.030991\n",
       "dropoff_longitude          0.028313\n",
       "dropoff_latitude           0.033924\n",
       "trip_duration            680.000000\n",
       "distance                   2.641604\n",
       "speed                      8.729247\n",
       "trip_distance_miles        1.641416\n",
       "trip_duration_minutes     11.333333\n",
       "LC_sim                    30.999991\n",
       "dtype: float64"
      ]
     },
     "execution_count": 9,
     "metadata": {},
     "output_type": "execute_result"
    }
   ],
   "source": [
    "# Detecting outlier with IQR method\n",
    "Q1 = df.quantile(0.25)\n",
    "Q3 = df.quantile(0.75)\n",
    "IQR = Q3 - Q1\n",
    "IQR"
   ]
  },
  {
   "cell_type": "code",
   "execution_count": 10,
   "metadata": {},
   "outputs": [
    {
     "name": "stdout",
     "output_type": "stream",
     "text": [
      "Number of outliers in vendor_id: 0\n",
      "Number of outliers in passenger_count: 168097\n",
      "Number of outliers in pickup_longitude: 90755\n",
      "Number of outliers in pickup_latitude: 56833\n",
      "Number of outliers in dropoff_longitude: 84023\n",
      "Number of outliers in dropoff_latitude: 77492\n",
      "Number of outliers in trip_duration: 80957\n",
      "Number of outliers in distance: 144491\n",
      "Number of outliers in speed: 60921\n",
      "Number of outliers in trip_distance_miles: 144491\n",
      "Number of outliers in trip_duration_minutes: 80957\n",
      "Number of outliers in LC_sim: 79943\n"
     ]
    }
   ],
   "source": [
    "# Check how many outliers are there per column based on the IQR\n",
    "# Note, not all of the original columns from df.columns CAN HAVE IQRs calculated. Why?\n",
    "for col in IQR.index:\n",
    "    print(f'Number of outliers in {col}: {df[(df[col] < (Q1[col] - 1.5 * IQR[col])) | (df[col] > (Q3[col] + 1.5 * IQR[col]))].shape[0]}')"
   ]
  },
  {
   "attachments": {},
   "cell_type": "markdown",
   "metadata": {},
   "source": [
    "A *sophisticated* method for detecting outliers is using **Isolation Forest**. You can read more about it here: https://scikit-learn.org/stable/modules/generated/sklearn.ensemble.IsolationForest.html. The point of the algorithm is to **detect anomalies** such as outliers."
   ]
  },
  {
   "cell_type": "code",
   "execution_count": 14,
   "metadata": {},
   "outputs": [
    {
     "name": "stdout",
     "output_type": "stream",
     "text": [
      "Anomalies:\n",
      "\n",
      " 1    1165485\n",
      "-1     318594\n",
      "Name: outlier, dtype: int64\n"
     ]
    },
    {
     "data": {
      "text/html": [
       "<div>\n",
       "<style scoped>\n",
       "    .dataframe tbody tr th:only-of-type {\n",
       "        vertical-align: middle;\n",
       "    }\n",
       "\n",
       "    .dataframe tbody tr th {\n",
       "        vertical-align: top;\n",
       "    }\n",
       "\n",
       "    .dataframe thead th {\n",
       "        text-align: right;\n",
       "    }\n",
       "</style>\n",
       "<table border=\"1\" class=\"dataframe\">\n",
       "  <thead>\n",
       "    <tr style=\"text-align: right;\">\n",
       "      <th></th>\n",
       "      <th>passenger_count</th>\n",
       "      <th>trip_duration</th>\n",
       "      <th>distance</th>\n",
       "      <th>outlier</th>\n",
       "    </tr>\n",
       "  </thead>\n",
       "  <tbody>\n",
       "    <tr>\n",
       "      <th>790909</th>\n",
       "      <td>1.0</td>\n",
       "      <td>605.0</td>\n",
       "      <td>2.898418</td>\n",
       "      <td>1</td>\n",
       "    </tr>\n",
       "    <tr>\n",
       "      <th>378503</th>\n",
       "      <td>1.0</td>\n",
       "      <td>1054.0</td>\n",
       "      <td>1.406718</td>\n",
       "      <td>1</td>\n",
       "    </tr>\n",
       "    <tr>\n",
       "      <th>1680655</th>\n",
       "      <td>1.0</td>\n",
       "      <td>1650.0</td>\n",
       "      <td>9.640574</td>\n",
       "      <td>-1</td>\n",
       "    </tr>\n",
       "    <tr>\n",
       "      <th>1171591</th>\n",
       "      <td>1.0</td>\n",
       "      <td>1081.0</td>\n",
       "      <td>2.742455</td>\n",
       "      <td>1</td>\n",
       "    </tr>\n",
       "    <tr>\n",
       "      <th>872909</th>\n",
       "      <td>3.0</td>\n",
       "      <td>461.0</td>\n",
       "      <td>3.171626</td>\n",
       "      <td>1</td>\n",
       "    </tr>\n",
       "    <tr>\n",
       "      <th>796344</th>\n",
       "      <td>1.0</td>\n",
       "      <td>208.0</td>\n",
       "      <td>0.685209</td>\n",
       "      <td>1</td>\n",
       "    </tr>\n",
       "    <tr>\n",
       "      <th>1642429</th>\n",
       "      <td>1.0</td>\n",
       "      <td>498.0</td>\n",
       "      <td>1.772435</td>\n",
       "      <td>1</td>\n",
       "    </tr>\n",
       "    <tr>\n",
       "      <th>1452421</th>\n",
       "      <td>1.0</td>\n",
       "      <td>1796.0</td>\n",
       "      <td>10.337275</td>\n",
       "      <td>-1</td>\n",
       "    </tr>\n",
       "    <tr>\n",
       "      <th>895903</th>\n",
       "      <td>2.0</td>\n",
       "      <td>1582.0</td>\n",
       "      <td>4.698720</td>\n",
       "      <td>1</td>\n",
       "    </tr>\n",
       "    <tr>\n",
       "      <th>1010117</th>\n",
       "      <td>1.0</td>\n",
       "      <td>1005.0</td>\n",
       "      <td>8.303200</td>\n",
       "      <td>1</td>\n",
       "    </tr>\n",
       "  </tbody>\n",
       "</table>\n",
       "</div>"
      ],
      "text/plain": [
       "         passenger_count  trip_duration   distance  outlier\n",
       "790909               1.0          605.0   2.898418        1\n",
       "378503               1.0         1054.0   1.406718        1\n",
       "1680655              1.0         1650.0   9.640574       -1\n",
       "1171591              1.0         1081.0   2.742455        1\n",
       "872909               3.0          461.0   3.171626        1\n",
       "796344               1.0          208.0   0.685209        1\n",
       "1642429              1.0          498.0   1.772435        1\n",
       "1452421              1.0         1796.0  10.337275       -1\n",
       "895903               2.0         1582.0   4.698720        1\n",
       "1010117              1.0         1005.0   8.303200        1"
      ]
     },
     "execution_count": 14,
     "metadata": {},
     "output_type": "execute_result"
    }
   ],
   "source": [
    "# Detecting outliers with Isolation Forest\n",
    "num_cols = ['passenger_count', 'trip_duration', 'distance']\n",
    "df_anomalies = df[num_cols]\n",
    "\n",
    "# Remove np.nan as Isolation Forest cannot handle missing values\n",
    "df_anomalies = df_anomalies.dropna()\n",
    "\n",
    "from sklearn.ensemble import IsolationForest\n",
    "clf = IsolationForest(random_state=0).fit(df_anomalies)\n",
    "\n",
    "# Predict if a row is an outlier or not; 1 = not outlier, -1 = outlier\n",
    "df_anomalies['outlier'] = clf.predict(df_anomalies)\n",
    "print(f\"Anomalies:\\n\\n{df_anomalies['outlier'].value_counts()}\")\n",
    "\n",
    "df_anomalies.sample(10)"
   ]
  },
  {
   "attachments": {},
   "cell_type": "markdown",
   "metadata": {},
   "source": [
    "Another algorithm that can be used to detect outliers is **Local Outlier Factor**. You can read more about it here: https://scikit-learn.org/stable/modules/generated/sklearn.neighbors.LocalOutlierFactor.html."
   ]
  },
  {
   "cell_type": "code",
   "execution_count": 15,
   "metadata": {},
   "outputs": [
    {
     "name": "stdout",
     "output_type": "stream",
     "text": [
      "Anomalies:\n",
      "\n",
      " 1    1335671\n",
      "-1     148408\n",
      "Name: outlier, dtype: int64\n"
     ]
    }
   ],
   "source": [
    "# Detect outliers with Local Outlier Factor\n",
    "from sklearn.neighbors import LocalOutlierFactor\n",
    "clf = LocalOutlierFactor(n_neighbors=20, contamination=0.1)\n",
    "df_anomalies['outlier'] = clf.fit_predict(df_anomalies)\n",
    "print(f\"Anomalies:\\n\\n{df_anomalies['outlier'].value_counts()}\")"
   ]
  },
  {
   "attachments": {},
   "cell_type": "markdown",
   "metadata": {},
   "source": [
    "# **Dealing with Multi-Collinearity**\n",
    "\n",
    "In order to detect whether your dataset has multi-collinearity, you can use the **Variance Inflation Factor (VIF)**. The VIF measures how much the variance of the estimated regression coefficients are inflated as compared to when the features are not correlated with each other. The higher the VIF, the higher the correlation of the feature with the other features.\n",
    "\n",
    "The VIF is computed as follows:\n",
    "\n",
    "$$VIF = \\frac{1}{1 - R^2}$$\n",
    "\n",
    "where $R^2$ is the coefficient of determination of the regression of the feature on the remaining features."
   ]
  },
  {
   "cell_type": "code",
   "execution_count": 16,
   "metadata": {},
   "outputs": [
    {
     "data": {
      "text/plain": [
       "Index(['id', 'vendor_id', 'pickup_datetime', 'dropoff_datetime',\n",
       "       'passenger_count', 'pickup_longitude', 'pickup_latitude',\n",
       "       'dropoff_longitude', 'dropoff_latitude', 'store_and_fwd_flag',\n",
       "       'trip_duration', 'nyc_borough', 'taxi_type', 'payment_type', 'distance',\n",
       "       'speed', 'trip_distance_miles', 'trip_duration_minutes', 'LC_sim'],\n",
       "      dtype='object')"
      ]
     },
     "execution_count": 16,
     "metadata": {},
     "output_type": "execute_result"
    }
   ],
   "source": [
    "df.columns"
   ]
  },
  {
   "cell_type": "code",
   "execution_count": 17,
   "metadata": {},
   "outputs": [],
   "source": [
    "numerical_cols = ['passenger_count', 'trip_duration', 'distance', 'speed', 'trip_distance_miles', 'trip_duration_minutes', 'LC_sim']"
   ]
  },
  {
   "cell_type": "code",
   "execution_count": 19,
   "metadata": {},
   "outputs": [
    {
     "data": {
      "text/plain": [
       "<Axes: >"
      ]
     },
     "execution_count": 19,
     "metadata": {},
     "output_type": "execute_result"
    },
    {
     "data": {
      "image/png": "[encoded data removed]",
      "text/plain": [
       "<Figure size 640x480 with 2 Axes>"
      ]
     },
     "metadata": {},
     "output_type": "display_data"
    }
   ],
   "source": [
    "# Correlation Matrix\n",
    "corr_matrix = df[numerical_cols].corr()\n",
    "\n",
    "# Visualize the correlation matrix with seaborn. Use red hues to indicate multi-collinearity (i.e. high correlation)\n",
    "import seaborn as sns\n",
    "sns.heatmap(corr_matrix, annot=True, cmap='Reds')"
   ]
  },
  {
   "attachments": {},
   "cell_type": "markdown",
   "metadata": {},
   "source": [
    "Variance Inflation Factor (VIF) is a measure of how much the variance of the estimated regression coefficient is increased due to multicollinearity. VIF of 1 indicates two variables are not correlated, between 1 and 5 indicates moderate correlation, and above 5 indicates high correlation. You can read more about it here: https://en.wikipedia.org/wiki/Variance_inflation_factor, and it's implementation in `statsmodels` here: https://www.statsmodels.org/stable/generated/statsmodels.stats.outliers_influence.variance_inflation_factor.html."
   ]
  },
  {
   "cell_type": "code",
   "execution_count": 24,
   "metadata": {},
   "outputs": [
    {
     "name": "stderr",
     "output_type": "stream",
     "text": [
      "/var/folders/3k/8x521n3x1hv89v96qvzcfzb00000gn/T/ipykernel_5702/1796412871.py:7: SettingWithCopyWarning: \n",
      "A value is trying to be set on a copy of a slice from a DataFrame\n",
      "\n",
      "See the caveats in the documentation: https://pandas.pydata.org/pandas-docs/stable/user_guide/indexing.html#returning-a-view-versus-a-copy\n",
      "  df_data.dropna(inplace=True) # Remove np.nan as VIF cannot handle missing values\n",
      "/Library/Frameworks/Python.framework/Versions/3.9/lib/python3.9/site-packages/statsmodels/stats/outliers_influence.py:198: RuntimeWarning: divide by zero encountered in double_scalars\n",
      "  vif = 1. / (1. - r_squared_i)\n"
     ]
    },
    {
     "data": {
      "image/png": "[encoded data removed]",
      "text/plain": [
       "<Figure size 1000x600 with 1 Axes>"
      ]
     },
     "metadata": {},
     "output_type": "display_data"
    }
   ],
   "source": [
    "# Using Variance Inflation Factor (VIF) to detect multi-collinearity\n",
    "from statsmodels.stats.outliers_influence import variance_inflation_factor\n",
    "from statsmodels.tools.tools import add_constant\n",
    "\n",
    "# Data\n",
    "df_data = df[numerical_cols]\n",
    "df_data.dropna(inplace=True) # Remove np.nan as VIF cannot handle missing values\n",
    "\n",
    "# Calculate VIF for each feature\n",
    "vif = pd.DataFrame()\n",
    "vif['features'] = df_data.columns\n",
    "vif['VIF'] = [variance_inflation_factor(df_data.values, i) for i in range(df_data.shape[1])]\n",
    "\n",
    "# Plot the VIF\n",
    "import matplotlib.pyplot as plt\n",
    "import seaborn as sns\n",
    "plt.figure(figsize=(10, 6))\n",
    "sns.barplot(x='VIF', y='features', data=vif.sort_values('VIF', ascending=False))\n",
    "plt.title('VIF Scores')\n",
    "plt.show()"
   ]
  },
  {
   "cell_type": "code",
   "execution_count": 25,
   "metadata": {},
   "outputs": [
    {
     "data": {
      "text/html": [
       "<div>\n",
       "<style scoped>\n",
       "    .dataframe tbody tr th:only-of-type {\n",
       "        vertical-align: middle;\n",
       "    }\n",
       "\n",
       "    .dataframe tbody tr th {\n",
       "        vertical-align: top;\n",
       "    }\n",
       "\n",
       "    .dataframe thead th {\n",
       "        text-align: right;\n",
       "    }\n",
       "</style>\n",
       "<table border=\"1\" class=\"dataframe\">\n",
       "  <thead>\n",
       "    <tr style=\"text-align: right;\">\n",
       "      <th></th>\n",
       "      <th>features</th>\n",
       "      <th>VIF</th>\n",
       "    </tr>\n",
       "  </thead>\n",
       "  <tbody>\n",
       "    <tr>\n",
       "      <th>0</th>\n",
       "      <td>passenger_count</td>\n",
       "      <td>1.08691</td>\n",
       "    </tr>\n",
       "    <tr>\n",
       "      <th>1</th>\n",
       "      <td>trip_duration</td>\n",
       "      <td>inf</td>\n",
       "    </tr>\n",
       "    <tr>\n",
       "      <th>2</th>\n",
       "      <td>distance</td>\n",
       "      <td>inf</td>\n",
       "    </tr>\n",
       "    <tr>\n",
       "      <th>3</th>\n",
       "      <td>speed</td>\n",
       "      <td>1.99916</td>\n",
       "    </tr>\n",
       "    <tr>\n",
       "      <th>4</th>\n",
       "      <td>trip_distance_miles</td>\n",
       "      <td>inf</td>\n",
       "    </tr>\n",
       "    <tr>\n",
       "      <th>5</th>\n",
       "      <td>trip_duration_minutes</td>\n",
       "      <td>inf</td>\n",
       "    </tr>\n",
       "    <tr>\n",
       "      <th>6</th>\n",
       "      <td>LC_sim</td>\n",
       "      <td>inf</td>\n",
       "    </tr>\n",
       "  </tbody>\n",
       "</table>\n",
       "</div>"
      ],
      "text/plain": [
       "                features      VIF\n",
       "0        passenger_count  1.08691\n",
       "1          trip_duration      inf\n",
       "2               distance      inf\n",
       "3                  speed  1.99916\n",
       "4    trip_distance_miles      inf\n",
       "5  trip_duration_minutes      inf\n",
       "6                 LC_sim      inf"
      ]
     },
     "execution_count": 25,
     "metadata": {},
     "output_type": "execute_result"
    }
   ],
   "source": [
    "vif"
   ]
  },
  {
   "attachments": {},
   "cell_type": "markdown",
   "metadata": {},
   "source": [
    "# **Dealing with Categorical Variables**\n",
    "\n",
    "Since machine learning models are based on mathematical equations, categorical variables need to be converted to numerical values. There are several ways to do this:\n",
    "- **Label encoding**\n",
    "- **One-hot encoding**\n",
    "- Ordinal encoding\n",
    "- Binary encoding\n",
    "- Hash encoding\n",
    "- Target encoding\n",
    "\n",
    "The `sklearn` library is rich with these different types of encoders. Refer to the documentation for more information: https://scikit-learn.org/stable/modules/classes.html#module-sklearn.preprocessing."
   ]
  },
  {
   "cell_type": "code",
   "execution_count": 28,
   "metadata": {},
   "outputs": [
    {
     "data": {
      "text/plain": [
       "id                        object\n",
       "vendor_id                float64\n",
       "pickup_datetime           object\n",
       "dropoff_datetime          object\n",
       "passenger_count          float64\n",
       "pickup_longitude         float64\n",
       "pickup_latitude          float64\n",
       "dropoff_longitude        float64\n",
       "dropoff_latitude         float64\n",
       "store_and_fwd_flag        object\n",
       "trip_duration            float64\n",
       "nyc_borough               object\n",
       "taxi_type                 object\n",
       "payment_type              object\n",
       "distance                 float64\n",
       "speed                    float64\n",
       "trip_distance_miles      float64\n",
       "trip_duration_minutes    float64\n",
       "LC_sim                   float64\n",
       "dtype: object"
      ]
     },
     "execution_count": 28,
     "metadata": {},
     "output_type": "execute_result"
    }
   ],
   "source": [
    "df.dtypes"
   ]
  },
  {
   "attachments": {},
   "cell_type": "markdown",
   "metadata": {},
   "source": [
    "tall = 0\n",
    "grande = 1\n",
    "venti = 2"
   ]
  },
  {
   "cell_type": "code",
   "execution_count": 29,
   "metadata": {},
   "outputs": [
    {
     "data": {
      "text/plain": [
       "array(['N', nan, 'Y'], dtype=object)"
      ]
     },
     "execution_count": 29,
     "metadata": {},
     "output_type": "execute_result"
    }
   ],
   "source": [
    "df['store_and_fwd_flag'].unique()"
   ]
  },
  {
   "cell_type": "code",
   "execution_count": 30,
   "metadata": {},
   "outputs": [
    {
     "data": {
      "text/plain": [
       "array([nan, 'yellow', 'fhv', 'green'], dtype=object)"
      ]
     },
     "execution_count": 30,
     "metadata": {},
     "output_type": "execute_result"
    }
   ],
   "source": [
    "df['taxi_type'].unique()"
   ]
  }
 ],
 "metadata": {
  "kernelspec": {
   "display_name": "Python 3",
   "language": "python",
   "name": "python3"
  },
  "language_info": {
   "codemirror_mode": {
    "name": "ipython",
    "version": 3
   },
   "file_extension": ".py",
   "mimetype": "text/x-python",
   "name": "python",
   "nbconvert_exporter": "python",
   "pygments_lexer": "ipython3",
   "version": "3.9.4"
  },
  "orig_nbformat": 4
 },
 "nbformat": 4,
 "nbformat_minor": 2
}
