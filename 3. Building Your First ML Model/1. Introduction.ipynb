{
 "cells": [
  {
   "attachments": {},
   "cell_type": "markdown",
   "metadata": {},
   "source": [
    "# **IMPORTANT!**\n",
    "\n",
    "## How to Run this Jupyter Notebook\n",
    "Once this notebook is uploaded on our Github repository, you can either\n",
    "- run this notebook on your local machine by downloading it and running it on your Jupyter Notebook server, or\n",
    "- run this notebook on Google Colab by clicking the \"Open in Colab\" badge at the top of this notebook.\n",
    "\n",
    "### With Github's Codespaces\n",
    "Alternatively, you can even use `Github's` **CodeSpaces** feature to run this notebook on your browser. To do so, simply click on the \"Code\" button at the top of this notebook and select \"Open with Codespaces\". This will open a new tab on your browser with the notebook running on `Github's` server. You can then start coding right away!\n",
    "\n",
    "### Locally on Visual Studio Code\n",
    "When running this Jupyter Notebook on your local machine with VSCode, make sure to:\n",
    "1. Install the `Jupyter` extension on your VSCode. You can do so by following these steps:\n",
    "    - Open VSCode\n",
    "    - Click on the \"Extensions\" icon on the left sidebar\n",
    "    - Search for \"Jupyter\" on the search bar\n",
    "    - Click on \"Install\"\n",
    "2. Select the `Python3` installed in your computer as your kernel. You can do so by following these steps:\n",
    "    - Open VSCode\n",
    "    - Click on the \"Python 3\" button on the top right corner of the window\n",
    "    - Select the `Python3` installed in your computer as your kernel.\n",
    "\n",
    "### Locally on Jupyter Notebook\n",
    "This is much easier than running this notebook on VSCode. All you have to do is:\n",
    "1. Go to your `Terminal` or `Command Prompt` and type `jupyter notebook` to instantiate the server.\n",
    "2. Open the notebook on your browser by clicking on the URL that appears on your `Terminal` or `Command Prompt`.\n",
    "3. Navigate to the folder where this notebook is located and open it.\n",
    "4. Select the `Python3` installed in your computer as your kernel."
   ]
  },
  {
   "attachments": {},
   "cell_type": "markdown",
   "metadata": {},
   "source": [
    "# **Problem Definition**"
   ]
  },
  {
   "attachments": {},
   "cell_type": "markdown",
   "metadata": {},
   "source": [
    "For this demonstration, I went to **Kaggle** and looked for a **competition** that has\n",
    "- an open-source dataset we can use\n",
    "- pre-defined evaluation metrics that we can use to evaluate our model\n",
    "- a clear problem definition that we can use to guide us in our analysis, and\n",
    "- baseline models that we can use to compare our model with (or models done by other Kagglers as point of reference)."
   ]
  },
  {
   "attachments": {},
   "cell_type": "markdown",
   "metadata": {},
   "source": [
    "We will be using the [New York City Taxi Trip Duration Dataset](https://www.kaggle.com/competitions/nyc-taxi-trip-duration/overview) which was part of a **Kaggle competition**. The competition dataset is based on the [2016 NYC Yellow Cab](https://cloud.google.com/bigquery/public-data) trip record data made available in Big Query on Google Cloud Platform. The data was originally published by the [NYC Taxi and Limousine Commission (TLC)](https://www.nyc.gov/site/tlc/about/tlc-trip-record-data.page).\n",
    "\n",
    "This is the **objective**:\n",
    "> Based on individual trip attributes, participants should predict the duration of each trip in the test set."
   ]
  },
  {
   "attachments": {},
   "cell_type": "markdown",
   "metadata": {},
   "source": [
    "# **Getting the Dataset**\n",
    "\n",
    "Make sure to **install** the `kaggle-api` by following these instructions: https://github.com/Kaggle/kaggle-api. This allows you to use the `kaggle` command on your `Terminal` or `Command Prompt`. To use the Kaggle API, sign up for a Kaggle account at https://www.kaggle.com. Then go to the 'Account' tab of your user profile (https://www.kaggle.com/<username>/account) and select 'Create API Token'. This will trigger the download of kaggle.json, a file containing your API credentials. Place this file in the location"
   ]
  },
  {
   "attachments": {},
   "cell_type": "markdown",
   "metadata": {},
   "source": [
    "To get the dataset, just run on your `Terminal` the following code:\n",
    "\n",
    "```\n",
    "kaggle competitions download -c nyc-taxi-trip-duration\n",
    "```"
   ]
  },
  {
   "cell_type": "markdown",
   "metadata": {},
   "source": []
  }
 ],
 "metadata": {
  "language_info": {
   "name": "python"
  },
  "orig_nbformat": 4
 },
 "nbformat": 4,
 "nbformat_minor": 2
}
